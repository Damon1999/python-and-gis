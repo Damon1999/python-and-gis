{
 "cells": [
  {
   "cell_type": "code",
   "execution_count": null,
   "metadata": {},
   "outputs": [
    {
     "name": "stdout",
     "output_type": "stream",
     "text": [
      "success\n"
     ]
    }
   ],
   "source": [
    "import arcpy\n",
    "import re\n",
    "from netCDF4 import Dataset\n",
    "import datetime\n",
    "path_wordspace = \"D:\\\\nc\\\\\"\n",
    "path_temp = \"D:\\\\nc\\\\temp\\\\\"\n",
    "D = \".tif\"\n",
    "out_rasterdataset = \"temp1\"\n",
    "files = open(\"D:\\\\nc\\\\nc.txt\",'r')\n",
    "for files_each_line in files:\n",
    "    #ISCCP_HXG_global_radiation_1984_01_monthly\n",
    "    files_each_line = files_each_line.replace('\\n', '')\n",
    "    year = re.findall(\"_\\d\\d\\d\\d_\",files_each_line)\n",
    "    year = str(year).replace(\"_']\",'')\n",
    "    year = str(year).replace(\"['_\", '')\n",
    "    mon = re.findall(\"_\\d\\d_\", files_each_line)\n",
    "    mon = str(mon).replace(\"_']\", '')\n",
    "    mon = str(mon).replace(\"['_\", '')\n",
    "    files_no_target = path_wordspace + str(year) + \"/\" + files_each_line + \".nc\"\n",
    "    files_no_temp = path_temp\n",
    "    files_no_final = path_wordspace + \"R\\\\mon\\\\\"\n",
    "    nc = files_no_target\n",
    "    try:\n",
    "        arcpy.MakeNetCDFRasterLayer_md(in_netCDF_file=nc, variable=\"monthly_global_radiation\",\n",
    "                                       x_dimension=\"lon\", y_dimension=\"lat\",\n",
    "                                       out_raster_layer=str(files_each_line) + str(year) + str(mon),\n",
    "                                       band_dimension=\"\", dimension_values=\"\",\n",
    "                                       value_selection_method=\"BY_VALUE\")\n",
    "    except Exception as e:\n",
    "        print(e)\n",
    "    try:\n",
    "        arcpy.CopyRaster_management(in_raster=str(files_each_line) + str(year) + str(mon),\n",
    "                                    out_rasterdataset=files_no_temp + str(year) + str(mon) + D,\n",
    "                                    config_keyword=\"\", background_value=\"\",\n",
    "                                    nodata_value=\"-3.402823e+038\",\n",
    "                                    onebit_to_eightbit=\"NONE\", colormap_to_RGB=\"NONE\",\n",
    "                                    pixel_type=\"\",\n",
    "                                    scale_pixel_value=\"NONE\", RGB_to_Colormap=\"NONE\", format=\"\",\n",
    "                                    transform=\"NONE\")\n",
    "        arcpy.Delete_management(str(files_each_line) + str(year) + str(mon))\n",
    "    except Exception as e:\n",
    "        print(e)\n",
    "    try:\n",
    "        arcpy.Resample_management(\n",
    "            in_raster=files_no_temp + str(year) + str(mon) + D,\n",
    "            out_raster=files_no_temp + \"resample\" + str(year) + str(mon) + D,\n",
    "            cell_size=\"0.15 0.15\",\n",
    "            resampling_type=\"BILINEAR\")\n",
    "        arcpy.Delete_management(files_no_temp + str(year) + str(mon) + D)\n",
    "    except Exception as e:\n",
    "        print(e)\n",
    "    try:\n",
    "        arcpy.Clip_management(\n",
    "            in_raster=files_no_temp + \"resample\" + str(year) + str(mon) + D,\n",
    "            rectangle=\"95.8334536376953 32.1461541503906 118.096153637695 41.9296541503906\",\n",
    "            out_raster=files_no_final + \"R\" + str(year) + \"-\" + str(mon) + D,\n",
    "            in_template_dataset=\"G:/zhutiansheng/CLIMATE/yellowriver.shp\",\n",
    "            nodata_value=\"-3.400000e+038\", clipping_geometry=\"ClippingGeometry\",\n",
    "            maintain_clipping_extent=\"NO_MAINTAIN_EXTENT\")\n",
    "        print('success')\n",
    "        arcpy.Delete_management(\n",
    "            files_no_temp + \"resample\" + str(year) + str(mon) + D)\n",
    "    except Exception as e:\n",
    "        print(e)"
   ]
  }
 ],
 "metadata": {
  "kernelspec": {
   "display_name": "Python 3",
   "language": "python",
   "name": "python3"
  },
  "language_info": {
   "codemirror_mode": {
    "name": "ipython",
    "version": 3
   },
   "file_extension": ".py",
   "mimetype": "text/x-python",
   "name": "python",
   "nbconvert_exporter": "python",
   "pygments_lexer": "ipython3",
   "version": "3.6.9"
  }
 },
 "nbformat": 4,
 "nbformat_minor": 2
}
