{
 "cells": [
  {
   "cell_type": "code",
   "execution_count": null,
   "metadata": {},
   "outputs": [],
   "source": [
    "import pandas as pd\n",
    "import numpy as num\n",
    "for i in range(0,4):\n",
    "    path = \"D:\\\\futrue\\\\Desktop\\\\MPI-ESM1-2-HR\\\\MPI-ESM1-2-HRyellowriver\" + str(i) + \"_mon.xls\"\n",
    "    f = pd.read_excel(path,header=None, names=['name', 'VY', 'value'])\n",
    "    f = pd.DataFrame(f)\n",
    "    variable_all = [\"pr\"]\n",
    "    ssp_all = [\"ssp126\", \"ssp245\", \"ssp370\", \"ssp585\"]\n",
    "    D = \".tif\"\n",
    "    # pr-2015-1.tif\n",
    "    for variable in variable_all:\n",
    "        for ssp in ssp_all:\n",
    "            for year in range(2015, 2101):\n",
    "                VY_choose = []\n",
    "                for mon in range(1, 13):\n",
    "                    if mon > 10 :\n",
    "                       local = str(variable) + \"-\" + str(ssp) + \"-\" + str(year) + \"-\" + str(mon) + D\n",
    "                    else:\n",
    "                       local = str(variable) + \"-\" + str(ssp) + \"-\" + str(year) + \"-0\" + str(mon) + D\n",
    "                    VY_choose.append(local)\n",
    "                VY_GET = f[f['VY'].isin(VY_choose)]\n",
    "                VY_value = VY_GET['value'].max()\n",
    "                a = list(VY_GET['value'])\n",
    "                info1 = a.index(VY_value) + 1\n",
    "                file = open(\"D:\\\\futrue\\\\MEH-极端指标\\\\最湿月降雨量\\\\最湿月份降水量\" + str(i) +\".xls\", \"a\")\n",
    "                info = str(ssp) + \",\" + str(year) + \",\" + str(info1) + \"月份,\" + str(VY_value)\n",
    "                Info = str(info) + \"\\n\"\n",
    "                file.write(Info)\n",
    "                file.close()\n"
   ]
  }
 ],
 "metadata": {
  "kernelspec": {
   "display_name": "Python 3",
   "language": "python",
   "name": "python3"
  },
  "language_info": {
   "codemirror_mode": {
    "name": "ipython",
    "version": 3
   },
   "file_extension": ".py",
   "mimetype": "text/x-python",
   "name": "python",
   "nbconvert_exporter": "python",
   "pygments_lexer": "ipython3",
   "version": "3.6.9"
  }
 },
 "nbformat": 4,
 "nbformat_minor": 2
}
