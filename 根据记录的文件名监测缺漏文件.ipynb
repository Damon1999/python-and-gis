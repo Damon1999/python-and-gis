{
 "cells": [
  {
   "cell_type": "code",
   "execution_count": 1,
   "metadata": {},
   "outputs": [],
   "source": [
    "import os\n",
    "import re\n",
    "import shutil\n",
    "model_all = ['MPI-ESM1-2-HR','MRI-ESM2-0']\n",
    "variable_all = [\"pr\",\"tas\",\"tasmax\",\"tasmin\"]\n",
    "ssp_all = [\"ssp126\", \"ssp245\", \"ssp370\", \"ssp585\"]\n",
    "f = open(\"D:\\\\futrue\\\\nc.txt\",'r')\n",
    "f_line = f.readlines()\n",
    "#pr_Amon_MPI - ESM1 - 2 - HR_ssp126_r1i1p1f1_gn_201501 - 201912\n",
    "sum = 0\n",
    "sum1 = []\n",
    "i = 2015\n",
    "while i < 2100:\n",
    "    sum = i\n",
    "    i = i + 5\n",
    "    sum1.append(sum)\n",
    "for model in model_all:\n",
    "    for variable in variable_all:\n",
    "        for ssp in ssp_all:\n",
    "            for year in sum1:\n",
    "                filename = str(variable) + \"_Amon_\" + str(model) + \"_\" + str(ssp) + \"_r1i1p1f1_gn_\" + str(year) + \"01-\" + str(year + 4) + \"12\"\n",
    "                if len(re.findall(filename, str(f_line))) > 0:\n",
    "                    print(\"exists!\")\n",
    "                else:\n",
    "                    file = open(\"D:\\\\futrue\\\\nc_miss.txt\",'a')\n",
    "                    file.write(filename + \"\\n\")\n",
    "                    file.close()"
   ]
  },
  {
   "cell_type": "code",
   "execution_count": null,
   "metadata": {},
   "outputs": [],
   "source": []
  }
 ],
 "metadata": {
  "kernelspec": {
   "display_name": "Python 3",
   "language": "python",
   "name": "python3"
  },
  "language_info": {
   "codemirror_mode": {
    "name": "ipython",
    "version": 3
   },
   "file_extension": ".py",
   "mimetype": "text/x-python",
   "name": "python",
   "nbconvert_exporter": "python",
   "pygments_lexer": "ipython3",
   "version": "3.6.9"
  }
 },
 "nbformat": 4,
 "nbformat_minor": 2
}
