{
 "cells": [
  {
   "cell_type": "code",
   "execution_count": null,
   "metadata": {},
   "outputs": [],
   "source": [
    "import os\n",
    "import shutil\n",
    "variable_all = [\"pr\",\"tas\",\"tasmax\",\"tasmin\"]\n",
    "path_id = \"G:\\\\zhutiansheng\\\\nc\\\\history\\\\\"\n",
    "model_all = [\"ACCESS-ESM1\",\"BCC-CSM2-MR\",\"BCC-ESM1\",\"CanESM5\",\"CNRM-CM6-1\",\"EC-Earth3\",\"GISS-E2-1-G\",\n",
    "             \"HadGEM3-GC31-MM\",\"IPSL-CM6A-LR\",\"MIROC6\",\"MPI-ESM1-2-HR\",\"MPI-ESM1-2-LR\",\"MRI-ESM2-0\",\"UKESM1-0-LL\"]\n",
    "yellow_river_all = [\"yellowriver\",\"yellowriver1\",\"yellowriver2\",\"yellowriver3\"]\n",
    "for model in model_all:\n",
    "    for variable in variable_all:\n",
    "        for yellow_river in yellow_river_all:\n",
    "            #shutil.rmtree(path_id + str(variable) + \"\\\\\" + str(ssp) + \"\\\\tif\\\\\" + str(yellow_river) , True)\n",
    "            #shutil.rmtree(path_id + str(variable) + \"\\\\\" + str(ssp) + \"\\\\tif\\\\\" + str(yellow_river) , True)\n",
    "            os.makedirs(path_id + str(model) + \"\\\\\" + str(variable) + \"\\\\\" + str(yellow_river) + \"\\\\mon\\\\\")\n",
    "            os.makedirs(path_id + str(model) + \"\\\\\" + str(variable) + \"\\\\\" + str(yellow_river) + \"\\\\year\\\\\")\n"
   ]
  }
 ],
 "metadata": {
  "kernelspec": {
   "display_name": "Python 3",
   "language": "python",
   "name": "python3"
  },
  "language_info": {
   "codemirror_mode": {
    "name": "ipython",
    "version": 3
   },
   "file_extension": ".py",
   "mimetype": "text/x-python",
   "name": "python",
   "nbconvert_exporter": "python",
   "pygments_lexer": "ipython3",
   "version": "3.6.9"
  }
 },
 "nbformat": 4,
 "nbformat_minor": 2
}
