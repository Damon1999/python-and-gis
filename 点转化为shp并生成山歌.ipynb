{
 "cells": [
  {
   "cell_type": "code",
   "execution_count": 1,
   "metadata": {},
   "outputs": [],
   "source": [
    "import arcpy\n",
    "arcpy.env.workspace = r\"G:\\\\day\\\\yellowriver\\\\PRE\\\\year\\\\\"\n",
    "for year in range(1952,2011):\n",
    "    in_table = r\"G:\\\\day\\\\yellowriver\\\\PRE\\\\year\\\\chazhi\\\\csv\\\\PRE-\" + str(year) + \"new.csv\"\n",
    "    out_feature_class = r\"G:\\\\day\\\\yellowriver\\\\PRE\\\\year\\\\cahzhi\\\\shp\\\\PRE-\" + str(year) + \"-new.shp\"\n",
    "    x_coords = \"x\"\n",
    "    y_coords = \"y\"\n",
    "    z_coords = \"z\"\n",
    "    arcpy.management.XYTableToPoint(in_table, out_feature_class, x_coords, y_coords, z_coords, arcpy.SpatialReference(4759, 115700))\n",
    "    print(\"success!\")\n",
    "    #arcpy.gp.Kriging_sa(out_feature_class, \"z\", \"G:\\\\day\\\\yellowriver\\\\PRE\\\\year\\\\cahzhi\\\\tif\\\\PRE-\" + str(year) + \"-new.tif\", \"Spherical 0.039400\", \"0.0394\",\n",
    "                        \"VARIABLE 12\", \"\")"
   ]
  }
 ],
 "metadata": {
  "kernelspec": {
   "display_name": "Python 3",
   "language": "python",
   "name": "python3"
  },
  "language_info": {
   "codemirror_mode": {
    "name": "ipython",
    "version": 3
   },
   "file_extension": ".py",
   "mimetype": "text/x-python",
   "name": "python",
   "nbconvert_exporter": "python",
   "pygments_lexer": "ipython3",
   "version": "3.6.9"
  }
 },
 "nbformat": 4,
 "nbformat_minor": 2
}
