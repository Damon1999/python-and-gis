{
 "cells": [
  {
   "cell_type": "code",
   "execution_count": null,
   "metadata": {},
   "outputs": [
    {
     "name": "stdout",
     "output_type": "stream",
     "text": [
      "time '1996/09/0016 12:00:00'\n",
      "G:/zhutiansheng/nc/history/UKESM1-0-LL/tasmax_Amon_UKESM1-0-LL_historical_r1i1p1f2_gn_195001-201412.nc\n",
      "make_finish\n",
      "copy_finish\n",
      "resample_finish\n",
      "success\n",
      "time '1996/10/0016/ 0:00:00'\n",
      "G:/zhutiansheng/nc/history/UKESM1-0-LL/tasmax_Amon_UKESM1-0-LL_historical_r1i1p1f2_gn_195001-201412.nc\n"
     ]
    }
   ],
   "source": [
    "#最冷月最低温度tasmin\n",
    "import pandas as pd\n",
    "for i in range(0,4):\n",
    "    path = \"D:\\\\futrue\\\\JIHE\\\\yellowriver\" + str(i) + \"_mon.xls\"\n",
    "    f = pd.read_excel(path,header=None, names=['name', 'VY', 'value'])\n",
    "    f = pd.DataFrame(f)\n",
    "    model_all = [\"MRI-ESM2-0\",\"EC-Earth3\",\"MPI-ESM1-2-HR\"]\n",
    "    variable_all = [\"pr\",\"tas\",\"tasmax\",\"tasmin\"]\n",
    "    ssp_all = [\"ssp126\", \"ssp245\", \"ssp370\", \"ssp585\"]\n",
    "    D = \".tif\"\n",
    "    for year in range(2015, 2101):\n",
    "        for mon in range(1, 13):\n",
    "            for variable in variable_all:\n",
    "                for ssp in ssp_all:\n",
    "                    VY_choose = []\n",
    "                    for model in model_all:\n",
    "                        if str(model) == \"EC-Earth3\":\n",
    "                            if i == 0 or i ==3 :\n",
    "                               local = str(model) + \"-\" + str(variable) + \"-\" + str(ssp) + \"-\" + str(year) + \"-\" + str(\n",
    "                                mon) + D\n",
    "                            else:\n",
    "                                local = str(model) + \"-\" + str(ssp) + \"-\" + str(variable) + \"-\" + str(year) + \"-\" + str(\n",
    "                                    mon) + D\n",
    "                        else:\n",
    "                            if mon >= 10:\n",
    "                                local = str(model) + \"-\" + str(variable) + \"-\" + str(ssp) + \"-\" + str(year) + \"-\" + str(\n",
    "                                    mon) + D\n",
    "                            else:\n",
    "                                local = str(model) + \"-\" + str(variable) + \"-\" + str(ssp) + \"-\" + str(year) + \"-0\" + str(\n",
    "                                    mon) + D\n",
    "                        VY_choose.append(local)\n",
    "                    print(VY_choose)\n",
    "                    VY_GET = f[f['VY'].isin(VY_choose)]\n",
    "                    print(VY_GET)\n",
    "                    VY_value = VY_GET['value'].mean()\n",
    "                    file = open(\"D:\\\\futrue\\\\JIHE\\\\yellowriver\" + str(i) + \"_mon_mean.xls\", \"a\")\n",
    "                    info = str(variable) + \",\" + str(ssp) + \",\" + str(year) + \",\" + str(mon) + \",\" + str(VY_value)\n",
    "                    Info = str(info) + \"\\n\"\n",
    "                    file.write(Info)\n",
    "                    file.close()\n",
    "\n",
    "\n",
    "\n"
   ]
  }
 ],
 "metadata": {
  "kernelspec": {
   "display_name": "Python 3",
   "language": "python",
   "name": "python3"
  },
  "language_info": {
   "codemirror_mode": {
    "name": "ipython",
    "version": 3
   },
   "file_extension": ".py",
   "mimetype": "text/x-python",
   "name": "python",
   "nbconvert_exporter": "python",
   "pygments_lexer": "ipython3",
   "version": "3.6.9"
  }
 },
 "nbformat": 4,
 "nbformat_minor": 2
}
