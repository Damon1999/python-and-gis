{
 "cells": [
  {
   "cell_type": "code",
   "execution_count": 1,
   "metadata": {},
   "outputs": [
    {
     "name": "stdout",
     "output_type": "stream",
     "text": [
      "G:/zhutiansheng/time2.gdb/ExcelToTable1957\n"
     ]
    },
    {
     "ename": "NameError",
     "evalue": "name 'ws' is not defined",
     "output_type": "error",
     "traceback": [
      "\u001b[1;31m---------------------------------------------------------------------------\u001b[0m",
      "\u001b[1;31mNameError\u001b[0m                                 Traceback (most recent call last)",
      "\u001b[1;32m<ipython-input-1-6e14f9d1d077>\u001b[0m in \u001b[0;36m<module>\u001b[1;34m\u001b[0m\n\u001b[0;32m     17\u001b[0m     \u001b[0mwb\u001b[0m \u001b[1;33m=\u001b[0m \u001b[0mxlrd\u001b[0m\u001b[1;33m.\u001b[0m\u001b[0mopen_workbook\u001b[0m\u001b[1;33m(\u001b[0m\u001b[0mfilename1\u001b[0m \u001b[1;33m+\u001b[0m \u001b[1;34m\".xls\"\u001b[0m\u001b[1;33m)\u001b[0m\u001b[1;33m\u001b[0m\u001b[1;33m\u001b[0m\u001b[0m\n\u001b[0;32m     18\u001b[0m     \u001b[1;31m#ws = wb.active\u001b[0m\u001b[1;33m\u001b[0m\u001b[1;33m\u001b[0m\u001b[1;33m\u001b[0m\u001b[0m\n\u001b[1;32m---> 19\u001b[1;33m     \u001b[0mws\u001b[0m \u001b[1;33m=\u001b[0m \u001b[0mws\u001b[0m\u001b[1;33m.\u001b[0m\u001b[0mdelete_cols\u001b[0m\u001b[1;33m(\u001b[0m\u001b[1;36m1\u001b[0m\u001b[1;33m)\u001b[0m\u001b[1;33m\u001b[0m\u001b[1;33m\u001b[0m\u001b[0m\n\u001b[0m\u001b[0;32m     20\u001b[0m     \u001b[0mws\u001b[0m \u001b[1;33m=\u001b[0m \u001b[0mws\u001b[0m\u001b[1;33m.\u001b[0m\u001b[0mdelete_cols\u001b[0m\u001b[1;33m(\u001b[0m\u001b[1;36m2\u001b[0m\u001b[1;33m)\u001b[0m\u001b[1;33m\u001b[0m\u001b[1;33m\u001b[0m\u001b[0m\n\u001b[0;32m     21\u001b[0m     \u001b[0mws\u001b[0m \u001b[1;33m=\u001b[0m \u001b[0mws\u001b[0m\u001b[1;33m.\u001b[0m\u001b[0mdelete_cols\u001b[0m\u001b[1;33m(\u001b[0m\u001b[1;36m4\u001b[0m\u001b[1;33m)\u001b[0m\u001b[1;33m\u001b[0m\u001b[1;33m\u001b[0m\u001b[0m\n",
      "\u001b[1;31mNameError\u001b[0m: name 'ws' is not defined"
     ]
    }
   ],
   "source": [
    "#最冷月最低温度tasmin\n",
    "import pandas as pd\n",
    "for i in range(0,4):\n",
    "    path = \"D:\\\\futrue\\\\Desktop\\\\MRI-ESM2-0\\\\MRI-ESM2-0yellowriver\" + str(i) + \"_mon.xls\"\n",
    "    f = pd.read_excel(path,header=None, names=['name', 'VY', 'value'])\n",
    "    f = pd.DataFrame(f)\n",
    "    variable_all = [\"pr\"]\n",
    "    ssp_all = [\"ssp126\", \"ssp245\", \"ssp370\", \"ssp585\"]\n",
    "    D = \".tif\"\n",
    "    for variable in variable_all:\n",
    "        for ssp in ssp_all:\n",
    "            for year in range(2015, 2101):\n",
    "                VY_choose1 = []\n",
    "                VY_choose2 = []\n",
    "                VY_choose3 = []\n",
    "                VY_choose4 = []\n",
    "                for mon in range(3, 6):\n",
    "                    local1 = str(variable) + \"-\" + str(ssp) + \"-\" + str(year) + \"-0\" + str(mon) + D\n",
    "                    VY_choose1.append(local1)\n",
    "                VY_GET1 = f[f['VY'].isin(VY_choose1)]\n",
    "                VY_value1 = VY_GET1['value'].sum()\n",
    "                for mon in range(6, 9):\n",
    "                    local2 = str(variable) + \"-\" + str(ssp) + \"-\" + str(year) + \"-0\" + str(mon) + D\n",
    "                    VY_choose2.append(local2)\n",
    "                VY_GET2 = f[f['VY'].isin(VY_choose2)]\n",
    "                VY_value2 = VY_GET2['value'].sum()\n",
    "                for mon in range(9, 12):\n",
    "                    if mon < 10:\n",
    "                        local3 = str(variable) + \"-\" + str(ssp) + \"-\" + str(year) + \"-0\" + str(mon) + D\n",
    "                    else:\n",
    "                        local3 = str(variable) + \"-\" + str(ssp) + \"-\" + str(year) + \"-\" + str(mon) + D\n",
    "                    VY_choose3.append(local3)\n",
    "                VY_GET3 = f[f['VY'].isin(VY_choose3)]\n",
    "                VY_value3 = VY_GET3['value'].sum()\n",
    "                for mon in ['1', '2', '12']:\n",
    "                    local4 = str(variable) + \"-\" + str(ssp) + \"-\" + str(year) + \"-\" + str(mon) + D\n",
    "                    VY_choose4.append(local4)\n",
    "                VY_GET4 = f[f['VY'].isin(VY_choose4)]\n",
    "                VY_value4 = VY_GET4['value'].sum()\n",
    "                year_sea = [float(VY_value1), float(VY_value2), float(VY_value3), float(VY_value4)]\n",
    "                print(year_sea)\n",
    "                SEA1 = min(year_sea)\n",
    "                SEA2 = max(year_sea)\n",
    "                print(SEA2,SEA1)\n",
    "                SEA = float(SEA2) - float(SEA1)\n",
    "                print(SEA)\n",
    "                file = open(\"D:\\\\futrue\\\\ME20极端指标\\\\降水季节性变化\\\\降水季节性变化\" + str(i) +\".xls\", \"a\")\n",
    "                Info = str(ssp) + \",\" + str(year) + \",\" + str(SEA) + \"\\n\"\n",
    "                file.write(Info)\n",
    "                file.close()\n",
    "\n"
   ]
  }
 ],
 "metadata": {
  "kernelspec": {
   "display_name": "Python 3",
   "language": "python",
   "name": "python3"
  },
  "language_info": {
   "codemirror_mode": {
    "name": "ipython",
    "version": 3
   },
   "file_extension": ".py",
   "mimetype": "text/x-python",
   "name": "python",
   "nbconvert_exporter": "python",
   "pygments_lexer": "ipython3",
   "version": "3.6.9"
  }
 },
 "nbformat": 4,
 "nbformat_minor": 2
}
