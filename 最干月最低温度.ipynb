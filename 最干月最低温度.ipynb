{
 "cells": [
  {
   "cell_type": "code",
   "execution_count": null,
   "metadata": {},
   "outputs": [],
   "source": [
    "#最冷月最低温度tasmin\n",
    "import pandas as pd\n",
    "import numpy as num\n",
    "f = pd.read_excel(\"G:\\\\文档\\\\WeChat Files\\\\wxid_hyj5mlba12eu21\\\\FileStorage\\\\File\\\\2021-04\\\\yellowriver3_monhs.xls\",\n",
    "                  header=None,names= ['name','VY','value'])\n",
    "f = pd.DataFrame(f)\n",
    "#variable_all = [\"pr\",\"tas\",\"tasmax\",\"tasmin\"]\n",
    "variable_all = [\"pr\"]\n",
    "#print(f)\n",
    "ssp_all = [\"ssp126\", \"ssp245\", \"ssp370\", \"ssp585\"]\n",
    "D = \".tif\"\n",
    "#pr-2015-1.tif\n",
    "for variable in variable_all:\n",
    "    for ssp in ssp_all:\n",
    "       for year in range(2015,2101):\n",
    "           VY_choose = []\n",
    "           for mon in range(1,13):\n",
    "               local = str(ssp) + \"-\" + str(variable) + \"-\" + str(year) + \"-\" +str(mon) + D\n",
    "               VY_choose.append(local)\n",
    "           VY_GET = f[f['VY'].isin(VY_choose)]\n",
    "           VY_value = VY_GET['value'].min()\n",
    "           a = list(VY_GET['value'])\n",
    "           info1 = a.index(VY_value)\n",
    "           file = open(\"G:\\\\zhutiansheng\\\\最干月份降水量3.xls\",\"a\")\n",
    "           info = str(ssp) + \",\" + str(year) + \",\" + str(info1) + \"月份,\" + str(VY_value)\n",
    "           Info = str(info) + \"\\n\"\n",
    "           file.write(Info)\n",
    "           file.close()\n"
   ]
  }
 ],
 "metadata": {
  "kernelspec": {
   "display_name": "Python 3",
   "language": "python",
   "name": "python3"
  },
  "language_info": {
   "codemirror_mode": {
    "name": "ipython",
    "version": 3
   },
   "file_extension": ".py",
   "mimetype": "text/x-python",
   "name": "python",
   "nbconvert_exporter": "python",
   "pygments_lexer": "ipython3",
   "version": "3.6.9"
  }
 },
 "nbformat": 4,
 "nbformat_minor": 2
}
