{
 "cells": [
  {
   "cell_type": "code",
   "execution_count": null,
   "metadata": {},
   "outputs": [],
   "source": [
    "#最冷月最低温度tasmin\n",
    "import pandas as pd\n",
    "import numpy as num\n",
    "for i in range(0,4):\n",
    "    path = \"D:\\\\futrue\\\\Desktop\\\\MPI-ESM1-2-HR\\\\MPI-ESM1-2-HRyellowriver\" + str(i) + \"_mon.xls\"\n",
    "    f = pd.read_excel(path,header=None, names=['name', 'VY', 'value'])\n",
    "    f = pd.DataFrame(f)\n",
    "    variable_all = [\"pr\"]\n",
    "    ssp_all = [\"ssp126\", \"ssp245\", \"ssp370\", \"ssp585\"]\n",
    "    D = \".tif\"\n",
    "    for variable in variable_all:\n",
    "        for ssp in ssp_all:\n",
    "            for year in range(2015, 2101):\n",
    "                VY_choose1 = []\n",
    "                VY_choose2 = []\n",
    "                VY_choose3 = []\n",
    "                VY_choose4 = []\n",
    "                for mon in range(3, 6):\n",
    "                    local1 = str(variable) + \"-\" + str(ssp) + \"-\" + str(year) + \"-0\" + str(mon) + D\n",
    "                    VY_choose1.append(local1)\n",
    "                VY_GET1 = f[f['VY'].isin(VY_choose1)]\n",
    "                VY_value1 = VY_GET1['value'].sum()\n",
    "                for mon in range(6, 9):\n",
    "                    local2 = str(variable) + \"-\" + str(ssp) + \"-\" + str(year) + \"-0\" + str(mon) + D\n",
    "                    VY_choose2.append(local2)\n",
    "                VY_GET2 = f[f['VY'].isin(VY_choose2)]\n",
    "                VY_value2 = VY_GET2['value'].sum()\n",
    "                for mon in range(9, 12):\n",
    "                    if mon <10 :\n",
    "                       local3 = str(variable) + \"-\" + str(ssp) + \"-\" + str(year) + \"-0\" + str(mon) + D\n",
    "                    else:\n",
    "                        local3 = str(variable) + \"-\" + str(ssp) + \"-\" + str(year) + \"-\" + str(mon) + D\n",
    "                    VY_choose3.append(local3)\n",
    "                VY_GET3 = f[f['VY'].isin(VY_choose3)]\n",
    "                VY_value3 = VY_GET3['value'].sum()\n",
    "                for mon in ['1', '2', '12']:\n",
    "                    local4 = str(variable) + \"-\" + str(ssp) + \"-\" + str(year) + \"-\" + str(mon) + D\n",
    "                    VY_choose4.append(local4)\n",
    "                VY_GET4 = f[f['VY'].isin(VY_choose4)]\n",
    "                VY_value4 = VY_GET4['value'].sum()\n",
    "                year_sea = [str(VY_value1), str(VY_value2), str(VY_value3), str(VY_value4)]\n",
    "                SEA = min(float(VY_value1), float(VY_value2), float(VY_value3), float(VY_value4))\n",
    "                B = year_sea.index(str(SEA)) + 1\n",
    "                SEA_name = str(B).replace(\"VY_value\", \"\")\n",
    "                file = open(\"D:\\\\futrue\\\\MEH-极端指标\\\\最干季节降水量\\\\最干季节降水量\" + str(i) +\".xls\", \"a\")\n",
    "                Info = str(ssp) + \",\" + str(variable) + \",\" + str(year) + \",第\" + SEA_name + \"季节,\" + str(SEA) + \"\\n\"\n",
    "                file.write(Info)\n",
    "                file.close()\n",
    "    print(\"success!\")\n"
   ]
  }
 ],
 "metadata": {
  "kernelspec": {
   "display_name": "Python 3",
   "language": "python",
   "name": "python3"
  },
  "language_info": {
   "codemirror_mode": {
    "name": "ipython",
    "version": 3
   },
   "file_extension": ".py",
   "mimetype": "text/x-python",
   "name": "python",
   "nbconvert_exporter": "python",
   "pygments_lexer": "ipython3",
   "version": "3.6.9"
  }
 },
 "nbformat": 4,
 "nbformat_minor": 2
}
