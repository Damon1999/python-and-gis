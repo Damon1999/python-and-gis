{
 "cells": [
  {
   "cell_type": "code",
   "execution_count": 1,
   "metadata": {},
   "outputs": [
    {
     "name": "stdout",
     "output_type": "stream",
     "text": [
      "D:/futrue/MRI-ESM2-0/pr/ssp126/yelloweriver/mon\n"
     ]
    },
    {
     "ename": "ExecuteError",
     "evalue": "ERROR 999998: 异常错误导致工具失败。 请联系 Esri 技术支持 (http://esriurl.com/support) 以报告漏洞，并参阅错误帮助以获取潜在解决方案或解决方法。\n执行(ExtractValuesToTable)失败。\n",
     "output_type": "error",
     "traceback": [
      "\u001b[1;31m---------------------------------------------------------------------------\u001b[0m",
      "\u001b[1;31mExecuteError\u001b[0m                              Traceback (most recent call last)",
      "\u001b[1;32m<ipython-input-1-31f6f37158b6>\u001b[0m in \u001b[0;36m<module>\u001b[1;34m\u001b[0m\n\u001b[0;32m     18\u001b[0m         arcpy.ExtractValuesToTable_ga(in_features=\"G:\\\\zhutiansheng\\\\CLIMATE\\\\point.shp\", in_rasters=rasters,\n\u001b[0;32m     19\u001b[0m                                       \u001b[0mout_table\u001b[0m\u001b[1;33m=\u001b[0m\u001b[1;34m\"G:\\\\zhutiansheng\\\\time2.gdb\\\\\"\u001b[0m \u001b[1;33m+\u001b[0m \u001b[0mstr\u001b[0m\u001b[1;33m(\u001b[0m\u001b[0mvariable\u001b[0m\u001b[1;33m)\u001b[0m \u001b[1;33m+\u001b[0m \u001b[0mstr\u001b[0m\u001b[1;33m(\u001b[0m\u001b[0mssp\u001b[0m\u001b[1;33m)\u001b[0m\u001b[1;33m,\u001b[0m\u001b[1;33m\u001b[0m\u001b[1;33m\u001b[0m\u001b[0m\n\u001b[1;32m---> 20\u001b[1;33m                                       out_raster_names_table='D:/EC-Earth3/tas/ssp126/'+ str(variable) + str(ssp), add_warning_field=\"\")\n\u001b[0m\u001b[0;32m     21\u001b[0m         arcpy.TableToExcel_conversion(Input_Table=f\"G:\\\\zhutiansheng\\\\time2.gdb\\\\\" + str(variable) + str(ssp), Output_Excel_File=\"G:/桌面/+ str(variable) + str(ssp).xls\",\n\u001b[0;32m     22\u001b[0m                                       \u001b[0mUse_field_alias_as_column_header\u001b[0m\u001b[1;33m=\u001b[0m\u001b[1;34m\"ALIAS\"\u001b[0m\u001b[1;33m,\u001b[0m\u001b[1;33m\u001b[0m\u001b[1;33m\u001b[0m\u001b[0m\n",
      "\u001b[1;32mC:\\Program Files\\ArcGIS\\Pro\\Resources\\ArcPy\\arcpy\\ga.py\u001b[0m in \u001b[0;36mExtractValuesToTable\u001b[1;34m(in_features, in_rasters, out_table, out_raster_names_table, add_warning_field)\u001b[0m\n\u001b[0;32m   1443\u001b[0m         \u001b[1;32mreturn\u001b[0m \u001b[0mretval\u001b[0m\u001b[1;33m\u001b[0m\u001b[1;33m\u001b[0m\u001b[0m\n\u001b[0;32m   1444\u001b[0m     \u001b[1;32mexcept\u001b[0m \u001b[0mException\u001b[0m \u001b[1;32mas\u001b[0m \u001b[0me\u001b[0m\u001b[1;33m:\u001b[0m\u001b[1;33m\u001b[0m\u001b[1;33m\u001b[0m\u001b[0m\n\u001b[1;32m-> 1445\u001b[1;33m         \u001b[1;32mraise\u001b[0m \u001b[0me\u001b[0m\u001b[1;33m\u001b[0m\u001b[1;33m\u001b[0m\u001b[0m\n\u001b[0m\u001b[0;32m   1446\u001b[0m \u001b[1;33m\u001b[0m\u001b[0m\n\u001b[0;32m   1447\u001b[0m \u001b[1;33m@\u001b[0m\u001b[0mgptooldoc\u001b[0m\u001b[1;33m(\u001b[0m\u001b[1;34m'GaussianGeostatisticalSimulations_ga'\u001b[0m\u001b[1;33m,\u001b[0m \u001b[1;32mNone\u001b[0m\u001b[1;33m)\u001b[0m\u001b[1;33m\u001b[0m\u001b[1;33m\u001b[0m\u001b[0m\n",
      "\u001b[1;32mC:\\Program Files\\ArcGIS\\Pro\\Resources\\ArcPy\\arcpy\\ga.py\u001b[0m in \u001b[0;36mExtractValuesToTable\u001b[1;34m(in_features, in_rasters, out_table, out_raster_names_table, add_warning_field)\u001b[0m\n\u001b[0;32m   1440\u001b[0m     \u001b[1;32mfrom\u001b[0m \u001b[0marcpy\u001b[0m\u001b[1;33m.\u001b[0m\u001b[0marcobjects\u001b[0m\u001b[1;33m.\u001b[0m\u001b[0marcobjectconversion\u001b[0m \u001b[1;32mimport\u001b[0m \u001b[0mconvertArcObjectToPythonObject\u001b[0m\u001b[1;33m\u001b[0m\u001b[1;33m\u001b[0m\u001b[0m\n\u001b[0;32m   1441\u001b[0m     \u001b[1;32mtry\u001b[0m\u001b[1;33m:\u001b[0m\u001b[1;33m\u001b[0m\u001b[1;33m\u001b[0m\u001b[0m\n\u001b[1;32m-> 1442\u001b[1;33m         \u001b[0mretval\u001b[0m \u001b[1;33m=\u001b[0m \u001b[0mconvertArcObjectToPythonObject\u001b[0m\u001b[1;33m(\u001b[0m\u001b[0mgp\u001b[0m\u001b[1;33m.\u001b[0m\u001b[0mExtractValuesToTable_ga\u001b[0m\u001b[1;33m(\u001b[0m\u001b[1;33m*\u001b[0m\u001b[0mgp_fixargs\u001b[0m\u001b[1;33m(\u001b[0m\u001b[1;33m(\u001b[0m\u001b[0min_features\u001b[0m\u001b[1;33m,\u001b[0m \u001b[0min_rasters\u001b[0m\u001b[1;33m,\u001b[0m \u001b[0mout_table\u001b[0m\u001b[1;33m,\u001b[0m \u001b[0mout_raster_names_table\u001b[0m\u001b[1;33m,\u001b[0m \u001b[0madd_warning_field\u001b[0m\u001b[1;33m)\u001b[0m\u001b[1;33m,\u001b[0m \u001b[1;32mTrue\u001b[0m\u001b[1;33m)\u001b[0m\u001b[1;33m)\u001b[0m\u001b[1;33m)\u001b[0m\u001b[1;33m\u001b[0m\u001b[1;33m\u001b[0m\u001b[0m\n\u001b[0m\u001b[0;32m   1443\u001b[0m         \u001b[1;32mreturn\u001b[0m \u001b[0mretval\u001b[0m\u001b[1;33m\u001b[0m\u001b[1;33m\u001b[0m\u001b[0m\n\u001b[0;32m   1444\u001b[0m     \u001b[1;32mexcept\u001b[0m \u001b[0mException\u001b[0m \u001b[1;32mas\u001b[0m \u001b[0me\u001b[0m\u001b[1;33m:\u001b[0m\u001b[1;33m\u001b[0m\u001b[1;33m\u001b[0m\u001b[0m\n",
      "\u001b[1;32mC:\\Program Files\\ArcGIS\\Pro\\Resources\\ArcPy\\arcpy\\geoprocessing\\_base.py\u001b[0m in \u001b[0;36m<lambda>\u001b[1;34m(*args)\u001b[0m\n\u001b[0;32m    509\u001b[0m         \u001b[0mval\u001b[0m \u001b[1;33m=\u001b[0m \u001b[0mgetattr\u001b[0m\u001b[1;33m(\u001b[0m\u001b[0mself\u001b[0m\u001b[1;33m.\u001b[0m\u001b[0m_gp\u001b[0m\u001b[1;33m,\u001b[0m \u001b[0mattr\u001b[0m\u001b[1;33m)\u001b[0m\u001b[1;33m\u001b[0m\u001b[1;33m\u001b[0m\u001b[0m\n\u001b[0;32m    510\u001b[0m         \u001b[1;32mif\u001b[0m \u001b[0mcallable\u001b[0m\u001b[1;33m(\u001b[0m\u001b[0mval\u001b[0m\u001b[1;33m)\u001b[0m\u001b[1;33m:\u001b[0m\u001b[1;33m\u001b[0m\u001b[1;33m\u001b[0m\u001b[0m\n\u001b[1;32m--> 511\u001b[1;33m             \u001b[1;32mreturn\u001b[0m \u001b[1;32mlambda\u001b[0m \u001b[1;33m*\u001b[0m\u001b[0margs\u001b[0m\u001b[1;33m:\u001b[0m \u001b[0mval\u001b[0m\u001b[1;33m(\u001b[0m\u001b[1;33m*\u001b[0m\u001b[0mgp_fixargs\u001b[0m\u001b[1;33m(\u001b[0m\u001b[0margs\u001b[0m\u001b[1;33m,\u001b[0m \u001b[1;32mTrue\u001b[0m\u001b[1;33m)\u001b[0m\u001b[1;33m)\u001b[0m\u001b[1;33m\u001b[0m\u001b[1;33m\u001b[0m\u001b[0m\n\u001b[0m\u001b[0;32m    512\u001b[0m         \u001b[1;32melse\u001b[0m\u001b[1;33m:\u001b[0m\u001b[1;33m\u001b[0m\u001b[1;33m\u001b[0m\u001b[0m\n\u001b[0;32m    513\u001b[0m             \u001b[1;32mreturn\u001b[0m \u001b[0mconvertArcObjectToPythonObject\u001b[0m\u001b[1;33m(\u001b[0m\u001b[0mval\u001b[0m\u001b[1;33m)\u001b[0m\u001b[1;33m\u001b[0m\u001b[1;33m\u001b[0m\u001b[0m\n",
      "\u001b[1;31mExecuteError\u001b[0m: ERROR 999998: 异常错误导致工具失败。 请联系 Esri 技术支持 (http://esriurl.com/support) 以报告漏洞，并参阅错误帮助以获取潜在解决方案或解决方法。\n执行(ExtractValuesToTable)失败。\n"
     ]
    }
   ],
   "source": [
    "import arcpy\n",
    "arcpy.env.extent = arcpy.Extent(95.877037, 32.160771, 119.065643, 41.860279)\n",
    "arcpy.env.workspace = r\"G:\\\\day\\\\yellowriver\\\\TEM\\\\year\\\\\"\n",
    "variable_all = ['tas','tasmin','tasmax']\n",
    "index_all = [\"mon\\\\MON\",\"year\"]\n",
    "for index in index_all:\n",
    "    for variable in variable_all:\n",
    "        for year in range(1952, 2011):\n",
    "            if index == \"mon\\\\MON\":\n",
    "                for mon in range(1, 13):\n",
    "                    try:\n",
    "                         out_feature_class = rf\"G:\\\\day\\\\yellowriver\\\\TEM\\\\{index}\\\\{variable}\\\\chazhi\\\\shp\\\\{variable}-{year}-{mon}mean.shp\"\n",
    "                         x_coords = \"x\"\n",
    "                         y_coords = \"y\"\n",
    "                         z_coords = \"z\"\n",
    "                         arcpy.gp.Kriging_sa(out_feature_class, \"z\",\n",
    "                                             f\"G:\\\\day\\\\yellowriver\\\\TEM\\\\{index}\\\\{variable}\\\\chazhi\\\\tif\\\\{variable}-{year}-{mon}-temp.tif\",\n",
    "                                             \"Spherical 0.039400\", \"0.0394\",\n",
    "                                             \"VARIABLE 12\", \"\")\n",
    "                         arcpy.gp.RasterCalculator_sa(f'\"G:\\\\day\\\\yellowriver\\\\TEM\\\\{index}\\\\{variable}\\\\chazhi\\\\tif\\\\{variable}-{year}-{mon}-temp.tif\" / 10', f\"G:\\\\day\\\\yellowriver\\\\TEM\\\\{index}\\\\{variable}\\\\chazhi\\\\tif\\\\{variable}-{year}-{mon}-temp2.tif\")\n",
    "                         arcpy.Delete_management(f\"G:\\\\day\\\\yellowriver\\\\TEM\\\\{index}\\\\{variable}\\\\chazhi\\\\tif\\\\{variable}-{year}-{mon}-temp.tif\")\n",
    "                         arcpy.Clip_management(\n",
    "                    in_raster= f\"G:\\\\day\\\\yellowriver\\\\TEM\\\\{index}\\\\{variable}\\\\chazhi\\\\tif\\\\{variable}-{year}-{mon}-temp2.tif\",\n",
    "                    rectangle=\"95.877037 32.160771 119.065643 41.860279\",\n",
    "                    out_raster=f\"G:\\\\day\\\\yellowriver\\\\TEM\\\\{index}\\\\{variable}\\\\chazhi\\\\tif\\\\{variable}-{year}-{mon}.tif\",\n",
    "                    in_template_dataset=\"G:/zhutiansheng/CLIMATE/yellowriver.shp\",\n",
    "                    nodata_value=\"-3.400000e+038\", clipping_geometry=\"ClippingGeometry\",\n",
    "                    maintain_clipping_extent=\"NO_MAINTAIN_EXTENT\")\n",
    "                         arcpy.Delete_management(f\"G:\\\\day\\\\yellowriver\\\\TEM\\\\{index}\\\\{variable}\\\\chazhi\\\\tif\\\\{variable}-{year}-{mon}-temp2.tif\")\n",
    "                         print(f\"{variable}-{year}-{mon}.tif-------success!\")\n",
    "                    except Exception as ex:\n",
    "                        print(f\"出现如下异常：{ex}\")\n",
    "\n",
    "            else:\n",
    "                try:\n",
    "                    out_feature_class = rf\"G:\\\\day\\\\yellowriver\\\\TEM\\\\{index}\\\\{variable}\\\\chazhi\\\\shp\\\\{variable}-{year}new.shp\"\n",
    "                    x_coords = \"x\"\n",
    "                    y_coords = \"y\"\n",
    "                    z_coords = \"z\"\n",
    "                    arcpy.gp.Kriging_sa(out_feature_class, \"z\",\n",
    "                                        f\"G:\\\\day\\\\yellowriver\\\\TEM\\\\{index}\\\\{variable}\\\\chazhi\\\\tif\\\\{variable}-{year}-temp.tif\",\n",
    "                                        \"Spherical 0.039400\", \"0.0394\",\n",
    "                                        \"VARIABLE 12\", \"\")\n",
    "                    arcpy.gp.RasterCalculator_sa(f'\"G:\\\\day\\\\yellowriver\\\\TEM\\\\{index}\\\\{variable}\\\\chazhi\\\\tif\\\\{variable}-{year}-temp.tif\" / 10', f\"G:\\\\day\\\\yellowriver\\\\TEM\\\\{index}\\\\{variable}\\\\chazhi\\\\tif\\\\{variable}-{year}.tif\")\n",
    "                    arcpy.Delete_management(f\"G:\\\\day\\\\yellowriver\\\\TEM\\\\{index}\\\\{variable}\\\\chazhi\\\\tif\\\\{variable}-{year}-temp.tif\")\n",
    "                    arcpy.Clip_management(\n",
    "                    in_raster= f\"G:\\\\day\\\\yellowriver\\\\TEM\\\\{index}\\\\{variable}\\\\chazhi\\\\tif\\\\{variable}-{year}-temp2.tif\",\n",
    "                    rectangle=\"95.877037 32.160771 119.065643 41.860279\",\n",
    "                    out_raster=f\"G:\\\\day\\\\yellowriver\\\\TEM\\\\{index}\\\\{variable}\\\\chazhi\\\\tif\\\\{variable}-{year}.tif\",\n",
    "                    in_template_dataset=\"G:/zhutiansheng/CLIMATE/yellowriver.shp\",\n",
    "                    nodata_value=\"-3.400000e+038\", clipping_geometry=\"ClippingGeometry\",\n",
    "                    maintain_clipping_extent=\"NO_MAINTAIN_EXTENT\")\n",
    "                    arcpy.Delete_management(f\"G:\\\\day\\\\yellowriver\\\\TEM\\\\{index}\\\\{variable}\\\\chazhi\\\\tif\\\\{variable}-{year}-temp2.tif\")\n",
    "                    print(f\"{variable}-{year}.tif-------success!\")\n",
    "                except Exception as ex:\n",
    "                    print(f\"出现如下异常：{ex}\")"
   ]
  }
 ],
 "metadata": {
  "kernelspec": {
   "display_name": "Python 3",
   "language": "python",
   "name": "python3"
  },
  "language_info": {
   "codemirror_mode": {
    "name": "ipython",
    "version": 3
   },
   "file_extension": ".py",
   "mimetype": "text/x-python",
   "name": "python",
   "nbconvert_exporter": "python",
   "pygments_lexer": "ipython3",
   "version": "3.6.9"
  }
 },
 "nbformat": 4,
 "nbformat_minor": 2
}
