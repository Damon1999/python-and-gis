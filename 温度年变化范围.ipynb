{
 "cells": [
  {
   "cell_type": "code",
   "execution_count": null,
   "metadata": {},
   "outputs": [],
   "source": [
    "import pandas as pd\n",
    "import numpy as num\n",
    "for i in range(0,4):\n",
    "    path = \"D:\\\\futrue\\\\Desktop\\\\MRI-ESM2-0\\\\MRI-ESM2-0yellowriver\" + str(i) + \"_mon.xls\"\n",
    "    f = pd.read_excel(path,header=None, names=['name', 'VY', 'value'])\n",
    "    f = pd.DataFrame(f)\n",
    "    variable1 = \"tasmin\"\n",
    "    variable2 = \"tasmax\"\n",
    "    # print(f)\n",
    "    ssp_all = [\"ssp126\", \"ssp245\", \"ssp370\", \"ssp585\"]\n",
    "    D = \".tif\"\n",
    "    # pr-2015-1.tif\n",
    "    for ssp in ssp_all:\n",
    "        for year in range(2015, 2101):\n",
    "            VY_choose1 = []\n",
    "            VY_choose2 = []\n",
    "            for mon in range(1, 13):\n",
    "                if mon >= 10:\n",
    "                   local1 = str(variable1) + \"-\" + str(ssp) + \"-\" + str(year) + \"-\" + str(mon) + D\n",
    "                   local2 = str(variable2) + \"-\" + str(ssp) + \"-\" + str(year) + \"-\" + str(mon) + D\n",
    "                else:\n",
    "                    local1 = str(variable1) + \"-\" + str(ssp) + \"-\" + str(year) + \"-0\" + str(mon) + D\n",
    "                    local2 = str(variable2) + \"-\" + str(ssp) + \"-\" + str(year) + \"-0\" + str(mon) + D\n",
    "                VY_choose1.append(local1)\n",
    "                VY_choose2.append(local2)\n",
    "            VY_GET1 = f[f['VY'].isin(VY_choose1)]\n",
    "            VY_value1 = VY_GET1['value'].min()\n",
    "            VY_GET2 = f[f['VY'].isin(VY_choose2)]\n",
    "            VY_value2 = VY_GET2['value'].max()\n",
    "            VY_value = VY_value2 - VY_value1\n",
    "            file = open(\"D:\\\\futrue\\\\ME20极端指标\\\\温度年变化范围\\\\温度年变化范围\" + str(i) + \".xls\", \"a\")\n",
    "            info = str(ssp) + \",\" + str(year) + \",\" + str(VY_value)\n",
    "            Info = str(info) + \"\\n\"\n",
    "            file.write(Info)\n",
    "            file.close()\n",
    "\n"
   ]
  },
  {
   "cell_type": "code",
   "execution_count": null,
   "metadata": {},
   "outputs": [],
   "source": []
  }
 ],
 "metadata": {
  "kernelspec": {
   "display_name": "Python 3",
   "language": "python",
   "name": "python3"
  },
  "language_info": {
   "codemirror_mode": {
    "name": "ipython",
    "version": 3
   },
   "file_extension": ".py",
   "mimetype": "text/x-python",
   "name": "python",
   "nbconvert_exporter": "python",
   "pygments_lexer": "ipython3",
   "version": "3.6.9"
  }
 },
 "nbformat": 4,
 "nbformat_minor": 2
}
